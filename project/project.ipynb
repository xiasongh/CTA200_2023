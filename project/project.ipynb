{
  "metadata": {
    "language_info": {
      "codemirror_mode": {
        "name": "python",
        "version": 3
      },
      "file_extension": ".py",
      "mimetype": "text/x-python",
      "name": "python",
      "nbconvert_exporter": "python",
      "pygments_lexer": "ipython3",
      "version": "3.8"
    },
    "kernelspec": {
      "name": "python",
      "display_name": "Python (Pyodide)",
      "language": "python"
    }
  },
  "nbformat_minor": 4,
  "nbformat": 4,
  "cells": [
    {
      "cell_type": "code",
      "source": "# Project: Tidal Evolution of the Earth-Moon System\nimport numpy as np\nimport matplotlib.pyplot as plt",
      "metadata": {
        "trusted": true
      },
      "execution_count": 1,
      "outputs": []
    },
    {
      "cell_type": "code",
      "source": "# Constants\nG = 6.67e-8\nm_moon = 7.349e25\nR_earth = 6371\nk2 = 0.298\nQ_moon = 11.5\na_moon_0 = 384000\nlod = 86164\nM_sun = 1.98e33\nM_earth = 5.97e27\na_earth = 1.49e8\nI = 0.3299 * M_earth * R_earth**2\nO_earth = 2 * np.pi / lod",
      "metadata": {
        "trusted": true
      },
      "execution_count": 5,
      "outputs": []
    },
    {
      "cell_type": "code",
      "source": "# 1\n\n# We will use cgs as our units\nL_earth = M_earth * np.sqrt(G * (M_sun + M_earth) * a_earth)\nS_earth = I * O_earth\nL_moon = m_moon * np.sqrt(G * (M_earth + m_moon) * a_moon_0)\n\nprint(f\"L_earth = {L_earth}\")\nprint(f\"S_earth = {S_earth}\")\nprint(f\"L_moon = {L_moon}\")",
      "metadata": {
        "trusted": true
      },
      "execution_count": 6,
      "outputs": [
        {
          "name": "stdout",
          "text": "L_earth = 8.368311343645594e+44\nS_earth = 5.829427067103105e+30\nL_moon = 9.136395223118223e+38\n",
          "output_type": "stream"
        }
      ]
    },
    {
      "cell_type": "code",
      "source": "# 2\nT_moon = (3 / 2) * (G * m_moon**2 / a_moon_0) * (R_earth / a_moon_0)**5 * (k2 / Q_moon)\nT_sun = T_moon * (1 / 4.7)\n\nprint(f\"T_moon = {T_moon}\")\nprint(F\"T_sun = {T_sun}\")",
      "metadata": {
        "trusted": true
      },
      "execution_count": 7,
      "outputs": [
        {
          "name": "stdout",
          "text": "T_moon = 4.577107218928912e+28\nT_sun = 9.73852599772109e+27\n",
          "output_type": "stream"
        }
      ]
    },
    {
      "cell_type": "code",
      "source": "# 3\nt_L_earth = L_earth / T_sun\nt_S_earth = S_earth / (-T_sun - T_moon)\nt_L_moon = L_moon / T_moon\n\nprint(f\"t_L_earth = {t_L_earth}\")\nprint(f\"t_S_earth = {t_S_earth}\")\nprint(f\"t_L_moon = {t_L_moon}\")",
      "metadata": {
        "trusted": true
      },
      "execution_count": 8,
      "outputs": [
        {
          "name": "stdout",
          "text": "t_L_earth = 8.592995845165747e+16\nt_S_earth = -105.01656033365502\nt_L_moon = 19961068828.21991\n",
          "output_type": "stream"
        }
      ]
    },
    {
      "cell_type": "code",
      "source": "# 9\n\"\"\"\nEstimated age of Earth: 4.543 billion years\nEstimated age of Moon: 4.53 billion years\n\"\"\"",
      "metadata": {},
      "execution_count": null,
      "outputs": []
    },
    {
      "cell_type": "code",
      "source": "# 10\n\"\"\"\n1. We are only taking into account the earth, sun, and moon in our model, but other objects in space can affect our model.\n2. We are using simple equations to model the earth, sun, and moon, which may not be accurate.\n\"\"\"",
      "metadata": {},
      "execution_count": null,
      "outputs": []
    }
  ]
}