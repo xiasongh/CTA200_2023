{
  "cells": [
    {
      "cell_type": "code",
      "execution_count": 7,
      "metadata": {
        "trusted": true
      },
      "outputs": [],
      "source": [
        "def f(x):\n",
        "    return x**3 - x**2 -1\n",
        "\n",
        "def df(x):\n",
        "    return 3*x**2 - 2*x"
      ]
    },
    {
      "cell_type": "code",
      "execution_count": 8,
      "metadata": {
        "trusted": true
      },
      "outputs": [],
      "source": [
        "def newton(f, df, x0, epsilon=1e-6, max_iter=30):\n",
        "    iter = 0\n",
        "    x = x0\n",
        "    while (iter < max_iter and abs(f(x)) >= epsilon):\n",
        "        x = x - f(x) / df(x)\n",
        "        iter += 1\n",
        "    if abs(f(x)) < epsilon:\n",
        "        print(f\"Found root in {iter} iterations\")\n",
        "        return x\n",
        "    else:\n",
        "        print(\"Iteration failed\")\n",
        "        return None"
      ]
    },
    {
      "cell_type": "code",
      "execution_count": null,
      "metadata": {
        "trusted": true
      },
      "outputs": [
        {
          "name": "stdout",
          "output_type": "stream",
          "text": [
            "Found root in 7 iterations\n",
            "1.4655712402015129\n",
            "Found root in 9 iterations\n",
            "1.465571232470246\n",
            "Found root in 8 iterations\n",
            "1.4655712318767682\n"
          ]
        }
      ],
      "source": [
        "print(newton(f, df, 10))\n",
        "print(newton(f, df, 100))\n",
        "print(newton(f, df, 100, epsilon=1e-8))\n",
        "# We see that the number of iterations increase when changing epsilon."
      ]
    },
    {
      "cell_type": "code",
      "execution_count": null,
      "metadata": {},
      "outputs": [],
      "source": []
    }
  ],
  "metadata": {
    "kernelspec": {
      "display_name": "Python (Pyodide)",
      "language": "python",
      "name": "python"
    },
    "language_info": {
      "codemirror_mode": {
        "name": "python",
        "version": 3
      },
      "file_extension": ".py",
      "mimetype": "text/x-python",
      "name": "python",
      "nbconvert_exporter": "python",
      "pygments_lexer": "ipython3",
      "version": "3.8"
    }
  },
  "nbformat": 4,
  "nbformat_minor": 4
}
