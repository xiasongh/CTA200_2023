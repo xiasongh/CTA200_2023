{
  "metadata": {
    "language_info": {
      "codemirror_mode": {
        "name": "python",
        "version": 3
      },
      "file_extension": ".py",
      "mimetype": "text/x-python",
      "name": "python",
      "nbconvert_exporter": "python",
      "pygments_lexer": "ipython3",
      "version": "3.8"
    },
    "kernelspec": {
      "name": "python",
      "display_name": "Python (Pyodide)",
      "language": "python"
    }
  },
  "nbformat_minor": 4,
  "nbformat": 4,
  "cells": [
    {
      "cell_type": "code",
      "source": "def f(x):\n    return x**3 - x**2 -1\n\ndef df(x):\n    return 3*x**2 - 2*x",
      "metadata": {
        "trusted": true
      },
      "execution_count": 7,
      "outputs": []
    },
    {
      "cell_type": "code",
      "source": "def newton(f, df, x0, epsilon=1e-6, max_iter=30):\n    iter = 0\n    x = x0\n    while (iter < max_iter and abs(f(x)) >= epsilon):\n        x = x - f(x) / df(x)\n        iter += 1\n    if abs(f(x)) < epsilon:\n        print(f\"Found root in {iter} iterations\")\n        return x\n    else:\n        print(\"Iteration failed\")\n        return None",
      "metadata": {
        "trusted": true
      },
      "execution_count": 8,
      "outputs": []
    },
    {
      "cell_type": "code",
      "source": "print(newton(f, df, 1))\nprint(newton(f, df, 10))\nprint(newton(f, df, 5, epsilon=1e-8))",
      "metadata": {
        "trusted": true
      },
      "execution_count": 10,
      "outputs": [
        {
          "name": "stdout",
          "text": "Found root in 7 iterations\n1.4655712402015129\nFound root in 9 iterations\n1.465571232470246\nFound root in 8 iterations\n1.4655712318767682\n",
          "output_type": "stream"
        }
      ]
    },
    {
      "cell_type": "code",
      "source": "",
      "metadata": {},
      "execution_count": null,
      "outputs": []
    }
  ]
}