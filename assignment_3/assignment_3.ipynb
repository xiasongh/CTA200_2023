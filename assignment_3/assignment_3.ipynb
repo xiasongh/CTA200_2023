{
  "metadata": {
    "language_info": {
      "codemirror_mode": {
        "name": "python",
        "version": 3
      },
      "file_extension": ".py",
      "mimetype": "text/x-python",
      "name": "python",
      "nbconvert_exporter": "python",
      "pygments_lexer": "ipython3",
      "version": "3.8"
    },
    "kernelspec": {
      "name": "python",
      "display_name": "Python (Pyodide)",
      "language": "python"
    }
  },
  "nbformat_minor": 4,
  "nbformat": 4,
  "cells": [
    {
      "cell_type": "code",
      "source": "# Question 1\nimport numpy as np\nimport matplotlib.pyplot as plt\nfrom iteration import iterate\n\nN = 1000\nx = np.linspace(-2, 2, N)\ny = np.linspace(-2, 2, N)\nX, Y = np.meshgrid(x, y)\nC = X + Y*1j\n\nfig, (ax1, ax2) = plt.subplots(1, 2, figsize=(10, 20))\n\nmandelbrot = np.vectorize(lambda c: iterate(c, threshold=10))(C)\nnormalized_mandelbrot = (mandelbrot - mandelbrot.min()) / (mandelbrot.max() - mandelbrot.min())\n\nax1.imshow(1*(mandelbrot > 0), cmap=\"Greys\", extent=[-2, 2, -2, 2])\nax1.set_title(\"Mandelbrot - Within Threshold\")\nax1.axis(\"off\")\nax2.imshow(normalized_mandelbrot, cmap=\"jet\", extent=[-2, 2, -2, 2])\nax2.set_title(\"Mandelbrot - Iteration Out of Bound\")\nax2.axis(\"off\")\n\nplt.savefig(\"mandelbrot.png\", bbox_inches=\"tight\")",
      "metadata": {
        "trusted": true
      },
      "execution_count": null,
      "outputs": []
    },
    {
      "cell_type": "code",
      "source": "# Question 2\nimport numpy as np\nfrom scipy.integrate import solve_ivp\nimport matplotlib.pyplot as plt\n\ndef lorenz(t, W, sigma, r, b):\n    \"\"\"\n    The Lorenz equations:\n    dx/dt = -σ(x - y)\n    dy/dt = r*x - y - x*z\n    dz/dt = -b*z + x*y\n    \n    returns [dx/dt, dy/dt, dz/dt]\n    \"\"\"\n    X, Y, Z = W\n    X_dot = sigma * (Y - X)\n    Y_dot = r * X - Y - X * Z\n    Z_dot = X * Y - b * Z\n    return [X_dot, Y_dot, Z_dot]\n\nsigma = 10.\nr = 28.\nb = 8./3.\nW0 = [0., 1., 0.]\nt_span = (0, 60)\n\nsol = solve_ivp(lambda t, W: lorenz(t, W, sigma, r, b), t_span, W0, rtol=1e-10, atol=1e-10)\n\nN = len(sol.t)\nplt.plot(sol.t[:N//2], sol.y[0][:N//2], 'b', label='X')\nplt.plot(sol.t[:N//2], sol.y[1][:N//2], 'g', label='Y')\nplt.plot(sol.t[:N//2], sol.y[2][:N//2], 'r', label='Z')\nplt.legend(loc='best')\nplt.xlabel('Time')\nplt.ylabel('Variable')\nplt.title('Figure 1 - X, Y, Z')\nplt.savefig(\"lorenz1.png\", bbox_inches=\"tight\")\n\nt = np.linspace(14, 19, 1000)\nW = solve_ivp(lambda t, W: lorenz(t, W, sigma, r, b), (14, 19), [sol.y[0][-1], sol.y[1][-1], sol.y[2][-1]], t_eval=t)\nplt.figure()\nplt.plot(W.y[0], W.y[1])\nplt.xlabel('X')\nplt.ylabel('Y')\nplt.title('Figure 2 - X, Y')\nplt.savefig(\"lorenz2_xy.png\", bbox_inches=\"tight\")\n\nplt.figure()\nplt.plot(W.y[0], W.y[2])\nplt.xlabel('X')\nplt.ylabel('Z')\nplt.title('Figure 2 - X, Z')\nplt.savefig(\"lorenz2_xz.png\", bbox_inches=\"tight\")\n\nplt.figure()\nplt.plot(W.y[1], W.y[2])\nplt.xlabel('Y')\nplt.ylabel('Z')\nplt.title('Figure 2 - Y, Z')\nplt.savefig(\"lorenz2_yz.png\", bbox_inches=\"tight\")\n\nW0_0 = [0., 1.00000001, 0.]\nW0_dist = np.zeros(len(sol.t))\nfor i in range(len(sol.t)):\n    W0_dist[i] = np.linalg.norm(np.array(W0) - np.array(sol.y[:, i]))\n\nplt.figure()\nplt.semilogy(sol.t, W0_dist)\nplt.xlabel('Time')\nplt.ylabel('Distance')\nplt.title('Distance between W0 and W0_0')\nplt.savefig(\"lorenzd.png\", bbox_inches=\"tight\")",
      "metadata": {
        "trusted": true
      },
      "execution_count": null,
      "outputs": []
    },
    {
      "cell_type": "code",
      "source": "",
      "metadata": {},
      "execution_count": null,
      "outputs": []
    }
  ]
}